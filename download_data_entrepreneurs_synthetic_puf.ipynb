{
 "cells": [
  {
   "cell_type": "code",
   "execution_count": 1,
   "metadata": {},
   "outputs": [],
   "source": [
    "import urllib.request\n",
    "import shutil"
   ]
  },
  {
   "cell_type": "code",
   "execution_count": 2,
   "metadata": {},
   "outputs": [],
   "source": [
    "samples = [x + 1 for x in range(0,20)]"
   ]
  },
  {
   "cell_type": "code",
   "execution_count": 3,
   "metadata": {},
   "outputs": [],
   "source": [
    "root_url_A = 'https://www.cms.gov/Research-Statistics-Data-and-Systems/Downloadable-Public-Use-Files/SynPUFs/Downloads/'\n",
    "root_url_B = 'https://downloads.cms.gov/files/'"
   ]
  },
  {
   "cell_type": "code",
   "execution_count": 4,
   "metadata": {},
   "outputs": [],
   "source": [
    "prefix = 'DE1_0'"
   ]
  },
  {
   "cell_type": "code",
   "execution_count": 5,
   "metadata": {},
   "outputs": [],
   "source": [
    "file_formats = [{\n",
    "    'root_url': root_url_A,\n",
    "    'suffix': '',\n",
    "    'file_type': '2008_Beneficiary_Summary_File'\n",
    "},\n",
    "{\n",
    "    'root_url': root_url_A,\n",
    "    'suffix': '',\n",
    "    'file_type': '2009_Beneficiary_Summary_File',\n",
    "},\n",
    "{\n",
    "    'root_url': root_url_A,\n",
    "    'suffix': '',\n",
    "    'file_type': '2010_Beneficiary_Summary_File'\n",
    "},\n",
    "{\n",
    "    'root_url': root_url_B,\n",
    "    'suffix': 'A',\n",
    "    'file_type': '2008_to_2010_Carrier_Claims'\n",
    "},\n",
    "{\n",
    "    'root_url': root_url_B,\n",
    "    'suffix': 'B',\n",
    "    'file_type': '2008_to_2010_Carrier_Claims'\n",
    "},\n",
    "{\n",
    "    'root_url': root_url_A,\n",
    "    'suffix': '',\n",
    "    'file_type': '2008_to_2010_Inpatient_Claims'\n",
    "},\n",
    "{\n",
    "    'root_url': root_url_A,\n",
    "    'suffix': '',\n",
    "    'file_type': '2008_to_2010_Outpatient_Claims'\n",
    "},\n",
    "{\n",
    "    'root_url': root_url_B,\n",
    "    'suffix': '',\n",
    "    'file_type': '2008_to_2010_Prescription_Drug_Events'\n",
    "}]"
   ]
  },
  {
   "cell_type": "code",
   "execution_count": 6,
   "metadata": {},
   "outputs": [],
   "source": [
    "file_extension = '.zip'"
   ]
  },
  {
   "cell_type": "code",
   "execution_count": 7,
   "metadata": {},
   "outputs": [],
   "source": [
    "file_locators = []\n",
    "for sample in samples:\n",
    "    for file_format in file_formats:\n",
    "        root_url = file_format['root_url']\n",
    "        file_type = file_format['file_type']\n",
    "        suffix = file_format['suffix']\n",
    "        file_locator = {}\n",
    "        file_name = '{}_{}_Sample_{}{}'.format(prefix, file_type, sample, suffix)\n",
    "        file_url = root_url + file_name\n",
    "        file_locator['file_url'] = file_url\n",
    "        file_locator['file_name'] = file_name\n",
    "        file_locators.append(file_locator)"
   ]
  },
  {
   "cell_type": "code",
   "execution_count": 8,
   "metadata": {},
   "outputs": [],
   "source": [
    "file_handle = urllib.request.URLopener()"
   ]
  },
  {
   "cell_type": "code",
   "execution_count": 9,
   "metadata": {},
   "outputs": [
    {
     "name": "stdout",
     "output_type": "stream",
     "text": [
      "https://downloads.cms.gov/files/DE1_0_2008_to_2010_Carrier_Claims_Sample_11A.zip\n"
     ]
    }
   ],
   "source": [
    "for file_locator in file_locators:\n",
    "    file_name = file_locator['file_name']\n",
    "    file_url = file_locator['file_url']\n",
    "    file_url = file_url + file_extension\n",
    "    try:\n",
    "        file_handle.retrieve(file_url, file_name + file_extension)\n",
    "        shutil.unpack_archive(file_name + file_extension)\n",
    "    except:\n",
    "        print('Errored File: {}'.format(file_url))"
   ]
  },
  {
   "cell_type": "code",
   "execution_count": 10,
   "metadata": {},
   "outputs": [
    {
     "ename": "ReadError",
     "evalue": "DE1_0_2008_to_2010_Carrier_Claims_Sample_11A.zip is not a zip file",
     "output_type": "error",
     "traceback": [
      "\u001b[0;31m---------------------------------------------------------------------------\u001b[0m",
      "\u001b[0;31mReadError\u001b[0m                                 Traceback (most recent call last)",
      "\u001b[0;32m<ipython-input-10-7e6893481995>\u001b[0m in \u001b[0;36m<module>\u001b[0;34m()\u001b[0m\n\u001b[1;32m      1\u001b[0m \u001b[0mfile_handle\u001b[0m\u001b[0;34m.\u001b[0m\u001b[0mretrieve\u001b[0m\u001b[0;34m(\u001b[0m\u001b[0;34m'https://downloads.cms.gov/files/DE1_0_2008_to_2010_Carrier_Claims_Sample_11A.zip'\u001b[0m\u001b[0;34m,\u001b[0m \u001b[0;34m'DE1_0_2008_to_2010_Carrier_Claims_Sample_11A.zip'\u001b[0m\u001b[0;34m)\u001b[0m\u001b[0;34m\u001b[0m\u001b[0m\n\u001b[0;32m----> 2\u001b[0;31m \u001b[0mshutil\u001b[0m\u001b[0;34m.\u001b[0m\u001b[0munpack_archive\u001b[0m\u001b[0;34m(\u001b[0m\u001b[0;34m'DE1_0_2008_to_2010_Carrier_Claims_Sample_11A.zip'\u001b[0m\u001b[0;34m)\u001b[0m\u001b[0;34m\u001b[0m\u001b[0m\n\u001b[0m",
      "\u001b[0;32m/Volumes/g_drive/Python_webinar/venv/lib/python3.5/shutil.py\u001b[0m in \u001b[0;36munpack_archive\u001b[0;34m(filename, extract_dir, format)\u001b[0m\n\u001b[1;32m    968\u001b[0m         \u001b[0mfunc\u001b[0m \u001b[0;34m=\u001b[0m \u001b[0m_UNPACK_FORMATS\u001b[0m\u001b[0;34m[\u001b[0m\u001b[0mformat\u001b[0m\u001b[0;34m]\u001b[0m\u001b[0;34m[\u001b[0m\u001b[0;36m1\u001b[0m\u001b[0;34m]\u001b[0m\u001b[0;34m\u001b[0m\u001b[0m\n\u001b[1;32m    969\u001b[0m         \u001b[0mkwargs\u001b[0m \u001b[0;34m=\u001b[0m \u001b[0mdict\u001b[0m\u001b[0;34m(\u001b[0m\u001b[0m_UNPACK_FORMATS\u001b[0m\u001b[0;34m[\u001b[0m\u001b[0mformat\u001b[0m\u001b[0;34m]\u001b[0m\u001b[0;34m[\u001b[0m\u001b[0;36m2\u001b[0m\u001b[0;34m]\u001b[0m\u001b[0;34m)\u001b[0m\u001b[0;34m\u001b[0m\u001b[0m\n\u001b[0;32m--> 970\u001b[0;31m         \u001b[0mfunc\u001b[0m\u001b[0;34m(\u001b[0m\u001b[0mfilename\u001b[0m\u001b[0;34m,\u001b[0m \u001b[0mextract_dir\u001b[0m\u001b[0;34m,\u001b[0m \u001b[0;34m**\u001b[0m\u001b[0mkwargs\u001b[0m\u001b[0;34m)\u001b[0m\u001b[0;34m\u001b[0m\u001b[0m\n\u001b[0m\u001b[1;32m    971\u001b[0m \u001b[0;34m\u001b[0m\u001b[0m\n\u001b[1;32m    972\u001b[0m \u001b[0;34m\u001b[0m\u001b[0m\n",
      "\u001b[0;32m/Volumes/g_drive/Python_webinar/venv/lib/python3.5/shutil.py\u001b[0m in \u001b[0;36m_unpack_zipfile\u001b[0;34m(filename, extract_dir)\u001b[0m\n\u001b[1;32m    872\u001b[0m \u001b[0;34m\u001b[0m\u001b[0m\n\u001b[1;32m    873\u001b[0m     \u001b[0;32mif\u001b[0m \u001b[0;32mnot\u001b[0m \u001b[0mzipfile\u001b[0m\u001b[0;34m.\u001b[0m\u001b[0mis_zipfile\u001b[0m\u001b[0;34m(\u001b[0m\u001b[0mfilename\u001b[0m\u001b[0;34m)\u001b[0m\u001b[0;34m:\u001b[0m\u001b[0;34m\u001b[0m\u001b[0m\n\u001b[0;32m--> 874\u001b[0;31m         \u001b[0;32mraise\u001b[0m \u001b[0mReadError\u001b[0m\u001b[0;34m(\u001b[0m\u001b[0;34m\"%s is not a zip file\"\u001b[0m \u001b[0;34m%\u001b[0m \u001b[0mfilename\u001b[0m\u001b[0;34m)\u001b[0m\u001b[0;34m\u001b[0m\u001b[0m\n\u001b[0m\u001b[1;32m    875\u001b[0m \u001b[0;34m\u001b[0m\u001b[0m\n\u001b[1;32m    876\u001b[0m     \u001b[0mzip\u001b[0m \u001b[0;34m=\u001b[0m \u001b[0mzipfile\u001b[0m\u001b[0;34m.\u001b[0m\u001b[0mZipFile\u001b[0m\u001b[0;34m(\u001b[0m\u001b[0mfilename\u001b[0m\u001b[0;34m)\u001b[0m\u001b[0;34m\u001b[0m\u001b[0m\n",
      "\u001b[0;31mReadError\u001b[0m: DE1_0_2008_to_2010_Carrier_Claims_Sample_11A.zip is not a zip file"
     ]
    }
   ],
   "source": [
    "# file_handle.retrieve('https://downloads.cms.gov/files/DE1_0_2008_to_2010_Carrier_Claims_Sample_11A.zip', 'DE1_0_2008_to_2010_Carrier_Claims_Sample_11A.zip')\n",
    "# shutil.unpack_archive('DE1_0_2008_to_2010_Carrier_Claims_Sample_11A.zip')"
   ]
  },
  {
   "cell_type": "code",
   "execution_count": null,
   "metadata": {},
   "outputs": [],
   "source": []
  }
 ],
 "metadata": {
  "kernelspec": {
   "display_name": "Python 3",
   "language": "python",
   "name": "python3"
  },
  "language_info": {
   "codemirror_mode": {
    "name": "ipython",
    "version": 3
   },
   "file_extension": ".py",
   "mimetype": "text/x-python",
   "name": "python",
   "nbconvert_exporter": "python",
   "pygments_lexer": "ipython3",
   "version": "3.5.2"
  }
 },
 "nbformat": 4,
 "nbformat_minor": 2
}
